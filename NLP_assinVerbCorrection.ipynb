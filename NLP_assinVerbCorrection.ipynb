{
  "nbformat": 4,
  "nbformat_minor": 0,
  "metadata": {
    "colab": {
      "provenance": [],
      "include_colab_link": true
    },
    "kernelspec": {
      "name": "python3",
      "display_name": "Python 3"
    },
    "language_info": {
      "name": "python"
    }
  },
  "cells": [
    {
      "cell_type": "markdown",
      "metadata": {
        "id": "view-in-github",
        "colab_type": "text"
      },
      "source": [
        "<a href=\"https://colab.research.google.com/github/neamatullah-JRC/AICODE/blob/main/NLP_assinVerbCorrection.ipynb\" target=\"_parent\"><img src=\"https://colab.research.google.com/assets/colab-badge.svg\" alt=\"Open In Colab\"/></a>"
      ]
    },
    {
      "cell_type": "code",
      "execution_count": 5,
      "metadata": {
        "colab": {
          "base_uri": "https://localhost:8080/"
        },
        "id": "5A2cg8uGYC6x",
        "outputId": "a4252227-1e43-4097-ece2-66ccf1f0d97f"
      },
      "outputs": [
        {
          "output_type": "stream",
          "name": "stdout",
          "text": [
            "he play\n",
            "sorry! I can't realise the subject\n"
          ]
        }
      ],
      "source": [
        "sentence = input()\n",
        "words = sentence.split(\" \")\n",
        "if sentence.startswith(\"He\") :\n",
        "    if words[1].endswith(\"s\"):\n",
        "        print(\" The sentence is correct \")\n",
        "    else :\n",
        "        print(\" He is 3rd person singular number, so the verb ends with s or es\")\n",
        "else :\n",
        "    print(\"sorry! I can't realise the subject\")"
      ]
    }
  ]
}